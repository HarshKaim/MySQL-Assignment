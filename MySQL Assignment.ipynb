{
 "cells": [
  {
   "cell_type": "markdown",
   "id": "82440ce3-74b8-4653-a138-96cc44600396",
   "metadata": {},
   "source": [
    "# Q1. What is a database? Differentiate between SQL and NoSQL databases.\n",
    "\n",
    "Ans. A database is a collection of information stored on a device in such a manner that it can be modified, added or deleted as per the need of the user. SQL databases stands for Structured Query Language databases which means that it can store data which is structured in nature i.e. in tabular format whereas NoSQL databases stands for Not Just SQL that means that it can store structured data as well as non-strucutred data e.g. json, images etc."
   ]
  },
  {
   "cell_type": "markdown",
   "id": "85c27e19-55af-4e64-b34b-a78f9b9c4fc2",
   "metadata": {},
   "source": [
    "# Q2. What is DDL? Explain why CREATE, DROP, ALTER, and TRUNCATE are used with an example.\n",
    "\n",
    "Ans. DDL stands for Data Definition Language. It means that the queries written in this language are meant for defining the data.\n",
    "\n",
    "CREATE is used for creating tables and databases. For e.g. CREATE table table_name;\n",
    "\n",
    "DROP is used for dropping the whole table including its structure. For e.g. DROP table table_name;\n",
    "\n",
    "ALTER is used for changing the columns of the data i.e. add, delete or modify column. For e.g. ALTER TABLE table_name ADD column_name datatype;\n",
    "\n",
    "TRUNCATE is used for deleting all the records of the rows but keeps the structure of the table intact. For e.g. TRUNCATE table table_name;"
   ]
  },
  {
   "cell_type": "markdown",
   "id": "7cbd212c-907e-4ba8-af40-26a1d5e2d11a",
   "metadata": {},
   "source": [
    "# Q3. What is DML? Explain INSERT, UPDATE, and DELETE with an example.\n",
    "\n",
    "Ans. DML stands for data manipulation language it means that the quries of this langauge are used to modify the records of the table. \n",
    "\n",
    "INSERT is used to add records in a table. For e.g. INSERT INTO table_name VALUES ('ABC',123);\n",
    "\n",
    "UPDATE is used to change the value of a particular column. For e.g. UPDATE table_name SET column_name=updated_value;\n",
    "\n",
    "DELETE is used to delete specific records from the table. For e.g. DELETE FROM table_name where column_name=condition;"
   ]
  },
  {
   "cell_type": "markdown",
   "id": "07d92e17-ee71-4db9-8dff-2c7c657a6053",
   "metadata": {},
   "source": [
    "# Q4. What is DQL? Explain SELECT with an example.\n",
    "\n",
    "Ans. DQL stands for data query language which means that it is used for accessing the data from the database. \n",
    "\n",
    "SELECT is used for accessing the data from database and display it. For e.g. SELECT name FROM table_name;"
   ]
  },
  {
   "cell_type": "markdown",
   "id": "e35b6a1f-9685-4b5c-9406-f29da30aecc6",
   "metadata": {},
   "source": [
    "# Q5. Explain Primary Key and Foreign Key.\n",
    "\n",
    "Ans. Primary Key is that attribute of the table which is unique in nature and can't be null. It is used to identify each record in the table whereas Foreign Key is that attribute of the table which is a primary key in some other table and is used to establish a relationship between current table and that table."
   ]
  },
  {
   "cell_type": "markdown",
   "id": "23c37957-33a3-4f2e-9336-f1a711008c51",
   "metadata": {},
   "source": [
    "# Q6. Write a python code to connect MySQL to python. Explain the cursor() and execute() method.\n",
    "Ans. "
   ]
  },
  {
   "cell_type": "code",
   "execution_count": null,
   "id": "7082f9eb-4178-463a-9d83-eb6ea065e3a5",
   "metadata": {},
   "outputs": [],
   "source": [
    "import mysql.connection\n",
    "connector=mysql.connection.connect(\n",
    "    host='local_host',\n",
    "    user='abc'\n",
    "    password='xyz123'\n",
    ")\n",
    "cursor=connector.cursor()\n",
    "cursor.execute('use database_name)\n",
    "cursor.execute('select * from table_name')\n",
    "results=cursor.fetchall()\n",
    "for result in results:\n",
    "    print(result)"
   ]
  },
  {
   "cell_type": "markdown",
   "id": "5c8993a6-826c-40a5-9dc2-1b8cc1820da7",
   "metadata": {},
   "source": [
    "cursor() method is used to intialize a cursor object to the connection which is then used to interact with the database.\n",
    "\n",
    "execute() method is used to exectue sql queries by sending them to SQL server."
   ]
  },
  {
   "cell_type": "markdown",
   "id": "65fe4faa-bd97-49b4-b5ab-8592ecd39947",
   "metadata": {},
   "source": [
    "# Q7. Give the order of execution of SQL clauses in an SQL query.\n",
    "\n",
    "Ans. The order of execution of clauses in SQL is as follows:\n",
    "\n",
    "FROM -> JOIN -> ON -> WHERE -> GROUP BY -> HAVING -> SELECT -> DISTINCT -> ORDER BY -> LIMIT / OFFSET"
   ]
  }
 ],
 "metadata": {
  "kernelspec": {
   "display_name": "Python 3 (ipykernel)",
   "language": "python",
   "name": "python3"
  },
  "language_info": {
   "codemirror_mode": {
    "name": "ipython",
    "version": 3
   },
   "file_extension": ".py",
   "mimetype": "text/x-python",
   "name": "python",
   "nbconvert_exporter": "python",
   "pygments_lexer": "ipython3",
   "version": "3.12.5"
  }
 },
 "nbformat": 4,
 "nbformat_minor": 5
}
